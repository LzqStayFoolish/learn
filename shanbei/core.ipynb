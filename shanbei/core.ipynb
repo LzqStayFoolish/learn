{
 "cells": [
  {
   "cell_type": "code",
   "execution_count": 3,
   "metadata": {
    "collapsed": true
   },
   "outputs": [],
   "source": [
    "import re\n",
    "\n",
    "PATTERN = [\n",
    "(\"/api/book/description/[a-z]+/[0-9]+\", \"Book.All.Description\"),\n",
    "(\"/api/book/history/[0-9]+\", \"Book.History.Content\"),\n",
    "(\"/api/book/comics/[0-9]+\", \"Book.Comics.Content\"),\n",
    "(\"/api/book/[a-z]+/[0-9]+\", \"Book.All.Content\"),\n",
    "(\"/api/book/[a-z]+/[0-9]+/audio\", \"Book.All.Content.Audio\"),\n",
    "(\"/api/user/teacher/[a-z]+\", \"User.Teacher.Infos\"),\n",
    "(\"/api/user/student/[a-z]+\", \"User.Student,Infos\"),\n",
    "(\"/api/user/[a-z]+\", \"User.All.Infos\"),\n",
    "(\"/source/img/[0-9a-zA-Z]+\", \"Source.Image\"),\n",
    "(\"/source/scripts/[0-9a-zA-Z]+\", \"Source.Scripts\")]\n",
    "\n",
    "test_urls = [\n",
    "(\"/api/book/description/history/120\", \"Book.All.Description\"),\n",
    "(\"/api/book/comics/123\", \"Book.Comics.Content\"),\n",
    "(\"/api/book/comics/123/audio\", \"Book.Comics.Content.Audio\"),\n",
    "(\"/api/user/clkjaslf\", \"User.All.Infos\"),\n",
    "(\"/source/img/6bq8H7q\", \"Source.Image\"),]\n",
    "\n",
    "#加载文件\n",
    "def load_data(root):\n",
    "    paths=[]\n",
    "    with open(root) as f:\n",
    "        for line in f:\n",
    "            s=line.strip('\\n')\n",
    "            paths.append(s)\n",
    "    return paths\n",
    "\n",
    "#编译规则\n",
    "def compile_rule():\n",
    "    pattern=[]\n",
    "    for p in PATTERN:\n",
    "        pt=re.compile(p[0])\n",
    "        pattern.append(pt)\n",
    "    return pattern\n",
    "\n",
    "#执行查询任务,参数为：待查找的路径paths，已编译的查找规则pattern\n",
    "def execute_task(paths,pattern):\n",
    "    with open('view.txt','w') as result:\n",
    "        for path in paths:\n",
    "            j=0\n",
    "            for i in range(len(pattern)):\n",
    "                if pattern[i].match(path):\n",
    "                    result.write(path+'    |     '+PATTERN[i][1]+'\\n')\n",
    "                    break\n",
    "                j+=1\n",
    "            if j==len(pattern):    #判断该路径是否已经被匹配\n",
    "                result.write(path+'    |     None'+'\\n')\n",
    "    \n",
    "if __name__=='__main__':\n",
    "    root='paths.txt'\n",
    "    #execute_task(load_data(root),compile_rule())\n",
    "    test=[url[0] for url in test_urls]\n",
    "    execute_task(test,compile_rule())"
   ]
  },
  {
   "cell_type": "code",
   "execution_count": null,
   "metadata": {
    "collapsed": true
   },
   "outputs": [],
   "source": []
  }
 ],
 "metadata": {
  "kernelspec": {
   "display_name": "Python 2",
   "language": "python",
   "name": "python2"
  },
  "language_info": {
   "codemirror_mode": {
    "name": "ipython",
    "version": 2
   },
   "file_extension": ".py",
   "mimetype": "text/x-python",
   "name": "python",
   "nbconvert_exporter": "python",
   "pygments_lexer": "ipython2",
   "version": "2.7.13"
  }
 },
 "nbformat": 4,
 "nbformat_minor": 2
}
