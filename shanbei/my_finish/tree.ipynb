{
 "cells": [
  {
   "cell_type": "code",
   "execution_count": 47,
   "metadata": {},
   "outputs": [],
   "source": [
    "import re\n",
    "\n",
    "PATTERN = [\n",
    "(\"/api/book/description/[a-z]+/[0-9]+\", \"Book.All.Description\"),\n",
    "(\"/api/book/history/[0-9]+\", \"Book.History.Content\"),\n",
    "(\"/api/book/comics/[0-9]+\", \"Book.Comics.Content\"),\n",
    "(\"/api/book/[a-z]+/[0-9]+\", \"Book.All.Content\"),\n",
    "(\"/api/book/[a-z]+/[0-9]+/audio\", \"Book.All.Content.Audio\"),\n",
    "(\"/api/user/teacher/[a-z]+\", \"User.Teacher.Infos\"),\n",
    "(\"/api/user/student/[a-z]+\", \"User.Student.Infos\"),\n",
    "(\"/api/user/[a-z]+\", \"User.All.Infos\"),\n",
    "(\"/source/img/[0-9a-zA-Z]+\", \"Source.Image\"),\n",
    "(\"/source/scripts/[0-9a-zA-Z]+\", \"Source.Scripts\")]\n",
    "\n",
    "#加载文件:将原始路径转换成可查询路径列表\n",
    "def load_data(data_path):\n",
    "    paths=[]\n",
    "    with open(data_path) as f:\n",
    "        for line in f:\n",
    "            s=line.strip('\\n/').split('/')\n",
    "            paths.append(s)  #因为路径开头有个/，所以从第二个开始取\n",
    "    return paths\n",
    "#树节点类\n",
    "class TrieNode(object):\n",
    "    def __init__(self):    \n",
    "        self.data ={}\n",
    "        self.view =''\n",
    "#树\n",
    "class Trie(object):\n",
    "    def __init__(self):\n",
    "        self.root = TrieNode()    \n",
    "#插入规则，生成查询树\n",
    "    def insert(self, rule):        \n",
    "        node = self.root\n",
    "        rule_s=rule[0].strip('\\n/').split('/')  #rule是一个包含规则和view的元组\n",
    "        for rule_part in rule_s:\n",
    "            if not (rule_part in node.data.keys()):\n",
    "                node.data[rule_part] = TrieNode()\n",
    "            node = node.data[rule_part]\n",
    "        node.view = rule[1]\n",
    " #执行查询\n",
    "    def search(self, paths):\n",
    "        with open('view.txt','w') as result:\n",
    "            for path in paths:  \n",
    "                node = self.root\n",
    "                for path_part in path:\n",
    "                    flag=False\n",
    "                    if path_part in node.data.keys():       #先对路径进行特殊匹配\n",
    "                        node = node.data.get(path_part)\n",
    "                        flag=True\n",
    "                        continue\n",
    "                    else:\n",
    "                        for key in node.data.keys():       #再对路径进行一般匹配\n",
    "                            if re.findall('[+]',key) and re.findall('^'+key+'$',path_part): #将路径与正则节点匹配（第一个条件排除掉非正则字符串）\n",
    "                                node=node.data.get(key)\n",
    "                                flag=True\n",
    "                            else:\n",
    "                                continue\n",
    "                        if not flag:\n",
    "                            break\n",
    "                if flag:\n",
    "                    result.write('/'+'/'.join(path) + '    |    '+ node.view + '\\n')    # 将匹配结果写入‘view.txt’中\n",
    "                else:\n",
    "                    result.write('/'+'/'.join(path) +'  |    None'+'\\n')\n",
    "                                           \n",
    "if __name__=='__main__':    \n",
    " #生成查询树\n",
    "    trie = Trie()\n",
    "    for pattern in  PATTERN:\n",
    "        trie.insert(pattern)  \n",
    " #执行查询\n",
    "    #data=[['api','book','description','history','123'],['api','book','comtics','123'],['api','book','comicys','123','audio','wowo'],['api','user','clkjaslf'],\n",
    "    #     ['source','img','6bq8H7q']]\n",
    "    data_path='paths.txt'\n",
    "    data=load_data(data_path)\n",
    "    trie.search(data)\n"
   ]
  },
  {
   "cell_type": "code",
   "execution_count": 81,
   "metadata": {},
   "outputs": [
    {
     "name": "stdout",
     "output_type": "stream",
     "text": [
      "api\n",
      "user\n",
      "comics\n",
      "123\n"
     ]
    }
   ],
   "source": [
    "test=['api','user','comics','123']\n",
    "for letter in test:\n",
    "    print letter"
   ]
  },
  {
   "cell_type": "code",
   "execution_count": 111,
   "metadata": {},
   "outputs": [
    {
     "name": "stdout",
     "output_type": "stream",
     "text": [
      "[4]\n"
     ]
    }
   ],
   "source": [
    "a=[1,2,3,4]\n",
    "b=[i for i in a if i>3 ]\n",
    "print b"
   ]
  },
  {
   "cell_type": "code",
   "execution_count": 169,
   "metadata": {},
   "outputs": [
    {
     "name": "stdout",
     "output_type": "stream",
     "text": [
      "[]\n"
     ]
    }
   ],
   "source": [
    "import re\n",
    "print re.findall('^[a-z]+$','kzpqwa6kdqcxma')"
   ]
  },
  {
   "cell_type": "code",
   "execution_count": 149,
   "metadata": {},
   "outputs": [
    {
     "name": "stdout",
     "output_type": "stream",
     "text": [
      "s\n"
     ]
    }
   ],
   "source": [
    "if re.findall('[-+]','[a-z]+') and re.findall('[-+]','[a-z]+'):\n",
    "    print 's'"
   ]
  },
  {
   "cell_type": "code",
   "execution_count": 45,
   "metadata": {},
   "outputs": [
    {
     "data": {
      "text/plain": [
       "[]"
      ]
     },
     "execution_count": 45,
     "metadata": {},
     "output_type": "execute_result"
    }
   ],
   "source": [
    "import re\n",
    "re.findall('^^[a-z]+$','eihfuw#eihfuw')"
   ]
  },
  {
   "cell_type": "code",
   "execution_count": null,
   "metadata": {
    "collapsed": true
   },
   "outputs": [],
   "source": []
  }
 ],
 "metadata": {
  "kernelspec": {
   "display_name": "Python 2",
   "language": "python",
   "name": "python2"
  },
  "language_info": {
   "codemirror_mode": {
    "name": "ipython",
    "version": 2
   },
   "file_extension": ".py",
   "mimetype": "text/x-python",
   "name": "python",
   "nbconvert_exporter": "python",
   "pygments_lexer": "ipython2",
   "version": "2.7.13"
  }
 },
 "nbformat": 4,
 "nbformat_minor": 2
}
